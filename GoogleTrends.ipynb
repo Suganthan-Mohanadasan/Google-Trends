{
  "nbformat": 4,
  "nbformat_minor": 0,
  "metadata": {
    "colab": {
      "name": "GoogleTrends.ipynb",
      "provenance": [],
      "include_colab_link": true
    },
    "kernelspec": {
      "name": "python3",
      "display_name": "Python 3"
    }
  },
  "cells": [
    {
      "cell_type": "markdown",
      "metadata": {
        "id": "view-in-github",
        "colab_type": "text"
      },
      "source": [
        "<a href=\"https://colab.research.google.com/github/Suganthan-Mohanadasan/Google-Trends/blob/main/GoogleTrends.ipynb\" target=\"_parent\"><img src=\"https://colab.research.google.com/assets/colab-badge.svg\" alt=\"Open In Colab\"/></a>"
      ]
    },
    {
      "cell_type": "markdown",
      "metadata": {
        "id": "qgEP8X3GIlO-"
      },
      "source": [
        "# **Just click the cell and Shift + Enter ;)**"
      ]
    },
    {
      "cell_type": "code",
      "metadata": {
        "id": "SqwLi0hP8nJ0",
        "colab": {
          "base_uri": "https://localhost:8080/"
        },
        "outputId": "68a26f59-3f75-4d27-aebc-b42c613217a2"
      },
      "source": [
        "!pip install --upgrade gspread"
      ],
      "execution_count": null,
      "outputs": [
        {
          "output_type": "stream",
          "text": [
            "Collecting gspread\n",
            "  Downloading https://files.pythonhosted.org/packages/9c/ba/bc8de4f5077bd34bc873bdd67a89cb29c4f181abba8a836d2c6a0a142365/gspread-3.6.0-py3-none-any.whl\n",
            "Requirement already satisfied, skipping upgrade: google-auth>=1.12.0 in /usr/local/lib/python3.6/dist-packages (from gspread) (1.17.2)\n",
            "Requirement already satisfied, skipping upgrade: google-auth-oauthlib>=0.4.1 in /usr/local/lib/python3.6/dist-packages (from gspread) (0.4.2)\n",
            "Requirement already satisfied, skipping upgrade: requests>=2.2.1 in /usr/local/lib/python3.6/dist-packages (from gspread) (2.23.0)\n",
            "Requirement already satisfied, skipping upgrade: cachetools<5.0,>=2.0.0 in /usr/local/lib/python3.6/dist-packages (from google-auth>=1.12.0->gspread) (4.1.1)\n",
            "Requirement already satisfied, skipping upgrade: setuptools>=40.3.0 in /usr/local/lib/python3.6/dist-packages (from google-auth>=1.12.0->gspread) (50.3.2)\n",
            "Requirement already satisfied, skipping upgrade: six>=1.9.0 in /usr/local/lib/python3.6/dist-packages (from google-auth>=1.12.0->gspread) (1.15.0)\n",
            "Requirement already satisfied, skipping upgrade: pyasn1-modules>=0.2.1 in /usr/local/lib/python3.6/dist-packages (from google-auth>=1.12.0->gspread) (0.2.8)\n",
            "Requirement already satisfied, skipping upgrade: rsa<5,>=3.1.4; python_version >= \"3\" in /usr/local/lib/python3.6/dist-packages (from google-auth>=1.12.0->gspread) (4.6)\n",
            "Requirement already satisfied, skipping upgrade: requests-oauthlib>=0.7.0 in /usr/local/lib/python3.6/dist-packages (from google-auth-oauthlib>=0.4.1->gspread) (1.3.0)\n",
            "Requirement already satisfied, skipping upgrade: certifi>=2017.4.17 in /usr/local/lib/python3.6/dist-packages (from requests>=2.2.1->gspread) (2020.12.5)\n",
            "Requirement already satisfied, skipping upgrade: chardet<4,>=3.0.2 in /usr/local/lib/python3.6/dist-packages (from requests>=2.2.1->gspread) (3.0.4)\n",
            "Requirement already satisfied, skipping upgrade: urllib3!=1.25.0,!=1.25.1,<1.26,>=1.21.1 in /usr/local/lib/python3.6/dist-packages (from requests>=2.2.1->gspread) (1.24.3)\n",
            "Requirement already satisfied, skipping upgrade: idna<3,>=2.5 in /usr/local/lib/python3.6/dist-packages (from requests>=2.2.1->gspread) (2.10)\n",
            "Requirement already satisfied, skipping upgrade: pyasn1<0.5.0,>=0.4.6 in /usr/local/lib/python3.6/dist-packages (from pyasn1-modules>=0.2.1->google-auth>=1.12.0->gspread) (0.4.8)\n",
            "Requirement already satisfied, skipping upgrade: oauthlib>=3.0.0 in /usr/local/lib/python3.6/dist-packages (from requests-oauthlib>=0.7.0->google-auth-oauthlib>=0.4.1->gspread) (3.1.0)\n",
            "Installing collected packages: gspread\n",
            "  Found existing installation: gspread 3.0.1\n",
            "    Uninstalling gspread-3.0.1:\n",
            "      Successfully uninstalled gspread-3.0.1\n",
            "Successfully installed gspread-3.6.0\n"
          ],
          "name": "stdout"
        }
      ]
    },
    {
      "cell_type": "markdown",
      "metadata": {
        "id": "8VVwCqKG95YW"
      },
      "source": [
        "# **When you run the cell below, it will ask you to follow a link. Follow that link and enter the verification code here!**"
      ]
    },
    {
      "cell_type": "code",
      "metadata": {
        "id": "fMH8HHpb8vdD"
      },
      "source": [
        "from google.colab import auth\n",
        "auth.authenticate_user()\n",
        "\n",
        "import gspread\n",
        "from oauth2client.client import GoogleCredentials\n",
        "\n",
        "gc = gspread.authorize(GoogleCredentials.get_application_default())"
      ],
      "execution_count": null,
      "outputs": []
    },
    {
      "cell_type": "code",
      "metadata": {
        "id": "QLN7_ME08yUS",
        "colab": {
          "base_uri": "https://localhost:8080/"
        },
        "outputId": "0582cb38-09ed-47d3-d314-df6420f77f65"
      },
      "source": [
        "pip install pytrends"
      ],
      "execution_count": null,
      "outputs": [
        {
          "output_type": "stream",
          "text": [
            "Collecting pytrends\n",
            "  Downloading https://files.pythonhosted.org/packages/96/53/a4a74c33bfdbe1740183e00769377352072e64182913562daf9f5e4f1938/pytrends-4.7.3-py3-none-any.whl\n",
            "Requirement already satisfied: pandas>=0.25 in /usr/local/lib/python3.6/dist-packages (from pytrends) (1.1.5)\n",
            "Requirement already satisfied: lxml in /usr/local/lib/python3.6/dist-packages (from pytrends) (4.2.6)\n",
            "Requirement already satisfied: requests in /usr/local/lib/python3.6/dist-packages (from pytrends) (2.23.0)\n",
            "Requirement already satisfied: pytz>=2017.2 in /usr/local/lib/python3.6/dist-packages (from pandas>=0.25->pytrends) (2018.9)\n",
            "Requirement already satisfied: python-dateutil>=2.7.3 in /usr/local/lib/python3.6/dist-packages (from pandas>=0.25->pytrends) (2.8.1)\n",
            "Requirement already satisfied: numpy>=1.15.4 in /usr/local/lib/python3.6/dist-packages (from pandas>=0.25->pytrends) (1.18.5)\n",
            "Requirement already satisfied: urllib3!=1.25.0,!=1.25.1,<1.26,>=1.21.1 in /usr/local/lib/python3.6/dist-packages (from requests->pytrends) (1.24.3)\n",
            "Requirement already satisfied: certifi>=2017.4.17 in /usr/local/lib/python3.6/dist-packages (from requests->pytrends) (2020.12.5)\n",
            "Requirement already satisfied: chardet<4,>=3.0.2 in /usr/local/lib/python3.6/dist-packages (from requests->pytrends) (3.0.4)\n",
            "Requirement already satisfied: idna<3,>=2.5 in /usr/local/lib/python3.6/dist-packages (from requests->pytrends) (2.10)\n",
            "Requirement already satisfied: six>=1.5 in /usr/local/lib/python3.6/dist-packages (from python-dateutil>=2.7.3->pandas>=0.25->pytrends) (1.15.0)\n",
            "Installing collected packages: pytrends\n",
            "Successfully installed pytrends-4.7.3\n"
          ],
          "name": "stdout"
        }
      ]
    },
    {
      "cell_type": "code",
      "metadata": {
        "id": "-SjiYtRd82E-"
      },
      "source": [
        "import pytrends\n",
        "from pytrends.request import TrendReq\n",
        "import pandas as pd\n",
        "import time\n",
        "import datetime\n",
        "from datetime import datetime, date, time"
      ],
      "execution_count": null,
      "outputs": []
    },
    {
      "cell_type": "markdown",
      "metadata": {
        "id": "WrNTbi0MJWVV"
      },
      "source": [
        "# **Enter your keywords in this section**"
      ]
    },
    {
      "cell_type": "code",
      "metadata": {
        "id": "I0sE564z84ZN"
      },
      "source": [
        "pytrend = TrendReq()\n",
        "searches = [\"sneakers\",\"basketball shoes\", \"tennis shoes\", \"bikini\", \"training bags\", \"sweatshirts\", \"tights\", \"joggers\", \"hoodies\", \"swimwear\", \"gloves\",\"sport jackets\", \"socks\", \"backpacks\", \"sport bras\" ]\n",
        "groupkeywords = list(zip(*[iter(searches)]*1))\n",
        "groupkeywords = [list(x) for x in groupkeywords]"
      ],
      "execution_count": null,
      "outputs": []
    },
    {
      "cell_type": "markdown",
      "metadata": {
        "id": "dyb6FTRdJlbG"
      },
      "source": [
        "# **Check timeframe and geo, maybe you need something else**\n",
        "PS: \"today 3-m\" means 3 months data ending today, \"today 5-y\" means 5 years data ending today "
      ]
    },
    {
      "cell_type": "code",
      "metadata": {
        "id": "Yyk4358R9JRb"
      },
      "source": [
        "dicti = {}\n",
        "i = 1\n",
        "for trending in groupkeywords:\n",
        "    pytrend.build_payload(trending, timeframe = 'today 5-y', geo = 'US')\n",
        "    dicti[i] = pytrend.interest_over_time()\n",
        "    i+=1"
      ],
      "execution_count": null,
      "outputs": []
    },
    {
      "cell_type": "code",
      "metadata": {
        "id": "ZrtVo0U-9MaY",
        "colab": {
          "base_uri": "https://localhost:8080/",
          "height": 450
        },
        "outputId": "dc8fdcd1-8df4-46e7-83eb-3892be49fa5e"
      },
      "source": [
        "result = pd.concat(dicti, axis=1)\n",
        "result.columns = result.columns.droplevel(0)\n",
        "result = result.drop('isPartial', axis = 1)\n",
        "result"
      ],
      "execution_count": null,
      "outputs": [
        {
          "output_type": "execute_result",
          "data": {
            "text/html": [
              "<div>\n",
              "<style scoped>\n",
              "    .dataframe tbody tr th:only-of-type {\n",
              "        vertical-align: middle;\n",
              "    }\n",
              "\n",
              "    .dataframe tbody tr th {\n",
              "        vertical-align: top;\n",
              "    }\n",
              "\n",
              "    .dataframe thead th {\n",
              "        text-align: right;\n",
              "    }\n",
              "</style>\n",
              "<table border=\"1\" class=\"dataframe\">\n",
              "  <thead>\n",
              "    <tr style=\"text-align: right;\">\n",
              "      <th></th>\n",
              "      <th>sneakers</th>\n",
              "      <th>basketball shoes</th>\n",
              "      <th>tennis shoes</th>\n",
              "      <th>bikini</th>\n",
              "      <th>training bags</th>\n",
              "      <th>sweatshirts</th>\n",
              "      <th>tights</th>\n",
              "      <th>joggers</th>\n",
              "      <th>hoodies</th>\n",
              "      <th>swimwear</th>\n",
              "      <th>gloves</th>\n",
              "      <th>sport jackets</th>\n",
              "      <th>socks</th>\n",
              "      <th>backpacks</th>\n",
              "      <th>sport bras</th>\n",
              "    </tr>\n",
              "    <tr>\n",
              "      <th>date</th>\n",
              "      <th></th>\n",
              "      <th></th>\n",
              "      <th></th>\n",
              "      <th></th>\n",
              "      <th></th>\n",
              "      <th></th>\n",
              "      <th></th>\n",
              "      <th></th>\n",
              "      <th></th>\n",
              "      <th></th>\n",
              "      <th></th>\n",
              "      <th></th>\n",
              "      <th></th>\n",
              "      <th></th>\n",
              "      <th></th>\n",
              "    </tr>\n",
              "  </thead>\n",
              "  <tbody>\n",
              "    <tr>\n",
              "      <th>2015-12-20</th>\n",
              "      <td>50</td>\n",
              "      <td>50</td>\n",
              "      <td>52</td>\n",
              "      <td>79</td>\n",
              "      <td>14</td>\n",
              "      <td>49</td>\n",
              "      <td>64</td>\n",
              "      <td>67</td>\n",
              "      <td>39</td>\n",
              "      <td>21</td>\n",
              "      <td>57</td>\n",
              "      <td>69</td>\n",
              "      <td>58</td>\n",
              "      <td>18</td>\n",
              "      <td>37</td>\n",
              "    </tr>\n",
              "    <tr>\n",
              "      <th>2015-12-27</th>\n",
              "      <td>49</td>\n",
              "      <td>43</td>\n",
              "      <td>48</td>\n",
              "      <td>86</td>\n",
              "      <td>25</td>\n",
              "      <td>31</td>\n",
              "      <td>68</td>\n",
              "      <td>42</td>\n",
              "      <td>28</td>\n",
              "      <td>31</td>\n",
              "      <td>54</td>\n",
              "      <td>29</td>\n",
              "      <td>42</td>\n",
              "      <td>18</td>\n",
              "      <td>63</td>\n",
              "    </tr>\n",
              "    <tr>\n",
              "      <th>2016-01-03</th>\n",
              "      <td>44</td>\n",
              "      <td>52</td>\n",
              "      <td>52</td>\n",
              "      <td>70</td>\n",
              "      <td>29</td>\n",
              "      <td>37</td>\n",
              "      <td>64</td>\n",
              "      <td>41</td>\n",
              "      <td>30</td>\n",
              "      <td>36</td>\n",
              "      <td>55</td>\n",
              "      <td>26</td>\n",
              "      <td>39</td>\n",
              "      <td>21</td>\n",
              "      <td>30</td>\n",
              "    </tr>\n",
              "    <tr>\n",
              "      <th>2016-01-10</th>\n",
              "      <td>42</td>\n",
              "      <td>53</td>\n",
              "      <td>47</td>\n",
              "      <td>67</td>\n",
              "      <td>67</td>\n",
              "      <td>31</td>\n",
              "      <td>65</td>\n",
              "      <td>47</td>\n",
              "      <td>27</td>\n",
              "      <td>39</td>\n",
              "      <td>55</td>\n",
              "      <td>45</td>\n",
              "      <td>36</td>\n",
              "      <td>20</td>\n",
              "      <td>51</td>\n",
              "    </tr>\n",
              "    <tr>\n",
              "      <th>2016-01-17</th>\n",
              "      <td>42</td>\n",
              "      <td>49</td>\n",
              "      <td>50</td>\n",
              "      <td>69</td>\n",
              "      <td>10</td>\n",
              "      <td>30</td>\n",
              "      <td>63</td>\n",
              "      <td>44</td>\n",
              "      <td>31</td>\n",
              "      <td>43</td>\n",
              "      <td>61</td>\n",
              "      <td>46</td>\n",
              "      <td>36</td>\n",
              "      <td>18</td>\n",
              "      <td>64</td>\n",
              "    </tr>\n",
              "    <tr>\n",
              "      <th>...</th>\n",
              "      <td>...</td>\n",
              "      <td>...</td>\n",
              "      <td>...</td>\n",
              "      <td>...</td>\n",
              "      <td>...</td>\n",
              "      <td>...</td>\n",
              "      <td>...</td>\n",
              "      <td>...</td>\n",
              "      <td>...</td>\n",
              "      <td>...</td>\n",
              "      <td>...</td>\n",
              "      <td>...</td>\n",
              "      <td>...</td>\n",
              "      <td>...</td>\n",
              "      <td>...</td>\n",
              "    </tr>\n",
              "    <tr>\n",
              "      <th>2020-11-08</th>\n",
              "      <td>80</td>\n",
              "      <td>51</td>\n",
              "      <td>76</td>\n",
              "      <td>46</td>\n",
              "      <td>0</td>\n",
              "      <td>61</td>\n",
              "      <td>58</td>\n",
              "      <td>59</td>\n",
              "      <td>61</td>\n",
              "      <td>14</td>\n",
              "      <td>60</td>\n",
              "      <td>21</td>\n",
              "      <td>55</td>\n",
              "      <td>14</td>\n",
              "      <td>40</td>\n",
              "    </tr>\n",
              "    <tr>\n",
              "      <th>2020-11-15</th>\n",
              "      <td>81</td>\n",
              "      <td>47</td>\n",
              "      <td>82</td>\n",
              "      <td>48</td>\n",
              "      <td>25</td>\n",
              "      <td>76</td>\n",
              "      <td>58</td>\n",
              "      <td>70</td>\n",
              "      <td>69</td>\n",
              "      <td>12</td>\n",
              "      <td>69</td>\n",
              "      <td>22</td>\n",
              "      <td>65</td>\n",
              "      <td>13</td>\n",
              "      <td>32</td>\n",
              "    </tr>\n",
              "    <tr>\n",
              "      <th>2020-11-22</th>\n",
              "      <td>100</td>\n",
              "      <td>44</td>\n",
              "      <td>97</td>\n",
              "      <td>50</td>\n",
              "      <td>25</td>\n",
              "      <td>99</td>\n",
              "      <td>65</td>\n",
              "      <td>97</td>\n",
              "      <td>91</td>\n",
              "      <td>15</td>\n",
              "      <td>73</td>\n",
              "      <td>28</td>\n",
              "      <td>78</td>\n",
              "      <td>13</td>\n",
              "      <td>65</td>\n",
              "    </tr>\n",
              "    <tr>\n",
              "      <th>2020-11-29</th>\n",
              "      <td>98</td>\n",
              "      <td>48</td>\n",
              "      <td>87</td>\n",
              "      <td>50</td>\n",
              "      <td>16</td>\n",
              "      <td>100</td>\n",
              "      <td>68</td>\n",
              "      <td>100</td>\n",
              "      <td>100</td>\n",
              "      <td>14</td>\n",
              "      <td>88</td>\n",
              "      <td>32</td>\n",
              "      <td>89</td>\n",
              "      <td>16</td>\n",
              "      <td>58</td>\n",
              "    </tr>\n",
              "    <tr>\n",
              "      <th>2020-12-06</th>\n",
              "      <td>94</td>\n",
              "      <td>46</td>\n",
              "      <td>93</td>\n",
              "      <td>50</td>\n",
              "      <td>8</td>\n",
              "      <td>94</td>\n",
              "      <td>64</td>\n",
              "      <td>99</td>\n",
              "      <td>100</td>\n",
              "      <td>14</td>\n",
              "      <td>89</td>\n",
              "      <td>30</td>\n",
              "      <td>93</td>\n",
              "      <td>15</td>\n",
              "      <td>59</td>\n",
              "    </tr>\n",
              "  </tbody>\n",
              "</table>\n",
              "<p>260 rows × 15 columns</p>\n",
              "</div>"
            ],
            "text/plain": [
              "            sneakers  basketball shoes  ...  backpacks  sport bras\n",
              "date                                    ...                       \n",
              "2015-12-20        50                50  ...         18          37\n",
              "2015-12-27        49                43  ...         18          63\n",
              "2016-01-03        44                52  ...         21          30\n",
              "2016-01-10        42                53  ...         20          51\n",
              "2016-01-17        42                49  ...         18          64\n",
              "...              ...               ...  ...        ...         ...\n",
              "2020-11-08        80                51  ...         14          40\n",
              "2020-11-15        81                47  ...         13          32\n",
              "2020-11-22       100                44  ...         13          65\n",
              "2020-11-29        98                48  ...         16          58\n",
              "2020-12-06        94                46  ...         15          59\n",
              "\n",
              "[260 rows x 15 columns]"
            ]
          },
          "metadata": {
            "tags": []
          },
          "execution_count": 14
        }
      ]
    },
    {
      "cell_type": "code",
      "metadata": {
        "id": "Dx95i1g-9a7P",
        "colab": {
          "base_uri": "https://localhost:8080/",
          "height": 419
        },
        "outputId": "218ee818-e3d8-45a3-df5c-3e8e2ecc98b0"
      },
      "source": [
        "result.reset_index(level=0, inplace=True)\n",
        "df = pd.melt(result, id_vars='date', value_vars=searches)\n",
        "df"
      ],
      "execution_count": null,
      "outputs": [
        {
          "output_type": "execute_result",
          "data": {
            "text/html": [
              "<div>\n",
              "<style scoped>\n",
              "    .dataframe tbody tr th:only-of-type {\n",
              "        vertical-align: middle;\n",
              "    }\n",
              "\n",
              "    .dataframe tbody tr th {\n",
              "        vertical-align: top;\n",
              "    }\n",
              "\n",
              "    .dataframe thead th {\n",
              "        text-align: right;\n",
              "    }\n",
              "</style>\n",
              "<table border=\"1\" class=\"dataframe\">\n",
              "  <thead>\n",
              "    <tr style=\"text-align: right;\">\n",
              "      <th></th>\n",
              "      <th>date</th>\n",
              "      <th>variable</th>\n",
              "      <th>value</th>\n",
              "    </tr>\n",
              "  </thead>\n",
              "  <tbody>\n",
              "    <tr>\n",
              "      <th>0</th>\n",
              "      <td>2015-12-20</td>\n",
              "      <td>sneakers</td>\n",
              "      <td>50</td>\n",
              "    </tr>\n",
              "    <tr>\n",
              "      <th>1</th>\n",
              "      <td>2015-12-27</td>\n",
              "      <td>sneakers</td>\n",
              "      <td>49</td>\n",
              "    </tr>\n",
              "    <tr>\n",
              "      <th>2</th>\n",
              "      <td>2016-01-03</td>\n",
              "      <td>sneakers</td>\n",
              "      <td>44</td>\n",
              "    </tr>\n",
              "    <tr>\n",
              "      <th>3</th>\n",
              "      <td>2016-01-10</td>\n",
              "      <td>sneakers</td>\n",
              "      <td>42</td>\n",
              "    </tr>\n",
              "    <tr>\n",
              "      <th>4</th>\n",
              "      <td>2016-01-17</td>\n",
              "      <td>sneakers</td>\n",
              "      <td>42</td>\n",
              "    </tr>\n",
              "    <tr>\n",
              "      <th>...</th>\n",
              "      <td>...</td>\n",
              "      <td>...</td>\n",
              "      <td>...</td>\n",
              "    </tr>\n",
              "    <tr>\n",
              "      <th>3895</th>\n",
              "      <td>2020-11-08</td>\n",
              "      <td>sport bras</td>\n",
              "      <td>40</td>\n",
              "    </tr>\n",
              "    <tr>\n",
              "      <th>3896</th>\n",
              "      <td>2020-11-15</td>\n",
              "      <td>sport bras</td>\n",
              "      <td>32</td>\n",
              "    </tr>\n",
              "    <tr>\n",
              "      <th>3897</th>\n",
              "      <td>2020-11-22</td>\n",
              "      <td>sport bras</td>\n",
              "      <td>65</td>\n",
              "    </tr>\n",
              "    <tr>\n",
              "      <th>3898</th>\n",
              "      <td>2020-11-29</td>\n",
              "      <td>sport bras</td>\n",
              "      <td>58</td>\n",
              "    </tr>\n",
              "    <tr>\n",
              "      <th>3899</th>\n",
              "      <td>2020-12-06</td>\n",
              "      <td>sport bras</td>\n",
              "      <td>59</td>\n",
              "    </tr>\n",
              "  </tbody>\n",
              "</table>\n",
              "<p>3900 rows × 3 columns</p>\n",
              "</div>"
            ],
            "text/plain": [
              "           date    variable  value\n",
              "0    2015-12-20    sneakers     50\n",
              "1    2015-12-27    sneakers     49\n",
              "2    2016-01-03    sneakers     44\n",
              "3    2016-01-10    sneakers     42\n",
              "4    2016-01-17    sneakers     42\n",
              "...         ...         ...    ...\n",
              "3895 2020-11-08  sport bras     40\n",
              "3896 2020-11-15  sport bras     32\n",
              "3897 2020-11-22  sport bras     65\n",
              "3898 2020-11-29  sport bras     58\n",
              "3899 2020-12-06  sport bras     59\n",
              "\n",
              "[3900 rows x 3 columns]"
            ]
          },
          "metadata": {
            "tags": []
          },
          "execution_count": 15
        }
      ]
    },
    {
      "cell_type": "markdown",
      "metadata": {
        "id": "jGjpJDCQKOqk"
      },
      "source": [
        "# **Don't forget to change your spreadsheet name below! wks =...**"
      ]
    },
    {
      "cell_type": "code",
      "metadata": {
        "id": "j7CwtE0Q9d2f"
      },
      "source": [
        "def iter_pd(df):\n",
        "    for val in df.columns:\n",
        "        yield val\n",
        "    for row in df.to_numpy():\n",
        "        for val in row:\n",
        "            if pd.isna(val):\n",
        "                yield \"\"\n",
        "            else:\n",
        "                yield val\n",
        "\n",
        "def pandas_to_sheets(pandas_df, sheet, clear = True):\n",
        "    \n",
        "    if clear:\n",
        "        sheet.clear()\n",
        "    (row, col) = pandas_df.shape\n",
        "    cells = sheet.range(\"A1:{}\".format(gspread.utils.rowcol_to_a1(row + 1, col)))\n",
        "    for cell, val in zip(cells, iter_pd(pandas_df)):\n",
        "        cell.value = val\n",
        "    sheet.update_cells(cells)\n",
        "\n",
        "\n",
        "\n",
        "wks = gc.open('Your spreadsheet').sheet1\n",
        "\n",
        "df['date'] = df['date'].astype(str)\n",
        "\n",
        "pandas_to_sheets(df, wks)"
      ],
      "execution_count": null,
      "outputs": []
    },
    {
      "cell_type": "markdown",
      "metadata": {
        "id": "Xd6GdHxgKdnC"
      },
      "source": [
        "# **Enjoy your data :)**"
      ]
    }
  ]
}